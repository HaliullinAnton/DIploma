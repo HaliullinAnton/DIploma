{
  "nbformat": 4,
  "nbformat_minor": 0,
  "metadata": {
    "colab": {
      "name": "weather.ipynb",
      "provenance": [],
      "authorship_tag": "ABX9TyPO9tnfq8XlreAgfcHafWCn",
      "include_colab_link": true
    },
    "kernelspec": {
      "name": "python3",
      "display_name": "Python 3"
    },
    "language_info": {
      "name": "python"
    }
  },
  "cells": [
    {
      "cell_type": "markdown",
      "metadata": {
        "id": "view-in-github",
        "colab_type": "text"
      },
      "source": [
        "<a href=\"https://colab.research.google.com/github/HaliullinAnton/Test-Data/blob/main/weather.ipynb\" target=\"_parent\"><img src=\"https://colab.research.google.com/assets/colab-badge.svg\" alt=\"Open In Colab\"/></a>"
      ]
    },
    {
      "cell_type": "markdown",
      "metadata": {
        "id": "ObexchfD1Vut"
      },
      "source": [
        "Минимальная разница между ощущаемой и фактической температурой"
      ]
    },
    {
      "cell_type": "code",
      "metadata": {
        "colab": {
          "base_uri": "https://localhost:8080/"
        },
        "id": "-MyLfIMV1e5t",
        "outputId": "8a8d1f96-2f05-4feb-9a43-867c8821ccd7"
      },
      "source": [
        "import requests\n",
        "import time\n",
        "import datetime\n",
        "import pandas as pd\n",
        "\n",
        "today = int(time.mktime(datetime.date.today().timetuple()))\n",
        "ts_list = [today]\n",
        "dt = today\n",
        "seconds_in_day = 60*60*24\n",
        "def ts_to_dt(ts):\n",
        "    m, s = divmod(ts, 60)\n",
        "    h, m = divmod(m, 60)\n",
        "    return '{}:{}:{}'.format(h, m, s)\n",
        "\n",
        "today_1 = today\n",
        "for i in range(4):\n",
        "    ts_list.append(today_1 - seconds_in_day)\n",
        "    today_1 -= seconds_in_day\n",
        "\n",
        "def temp_diff(dt):\n",
        "\n",
        "    appid = '4c8bb1c837239f0e992394c30421b12e'\n",
        "    res = requests.get(\n",
        "        'http://api.openweathermap.org/data/2.5/onecall/timemachine?lat=55.7522&lon=37.6156&dt={}&appid={}&units=metric'.format(\n",
        "            dt, appid))\n",
        "    data = res.json()\n",
        "    return abs(data['hourly'][0]['temp']) - abs(data['hourly'][0]['feels_like'])\n",
        "\n",
        "diff_temp = []\n",
        "\n",
        "for i in range(5):\n",
        "    diff_temp.append(round(temp_diff(ts_list[i]), 2))\n",
        "\n",
        "df = pd.DataFrame({'date': ts_list, 'temp': diff_temp})\n",
        "from datetime import datetime\n",
        "\n",
        "result_date = datetime.utcfromtimestamp(int(df.min()[0])).strftime('%Y-%m-%d')\n",
        "result_temp = df.min()[1]\n",
        "print(\"\"\"Минимальная разница между ощущаемой и фактической\n",
        "температурой зафиксирована {} и составлаяет {}\"\"\".format(result_date, result_temp))\n",
        "\n"
      ],
      "execution_count": null,
      "outputs": [
        {
          "output_type": "stream",
          "text": [
            "Минимальная разница между ощущаемой и фактической\n",
            "температурой зафиксирована 2021-08-19 и составлаяет 0.03\n"
          ],
          "name": "stdout"
        }
      ]
    },
    {
      "cell_type": "markdown",
      "metadata": {
        "id": "BRbXPcOy1jnx"
      },
      "source": [
        "Самая длинная продолжительность светового дня, за последние 5 дней"
      ]
    },
    {
      "cell_type": "code",
      "metadata": {
        "id": "wOVOZmrq1pNz",
        "colab": {
          "base_uri": "https://localhost:8080/"
        },
        "outputId": "08fe11b9-fe97-46ec-e1d0-e1768b3dd4f8"
      },
      "source": [
        "\n",
        "import datetime\n",
        "import time\n",
        "import requests\n",
        "\n",
        "seconds_in_day = 60*60*24\n",
        "today = int(time.mktime(datetime.date.today().timetuple()))\n",
        "def daylight_hours(dt):\n",
        "    appid = '4c8bb1c837239f0e992394c30421b12e'\n",
        "    dt = dt\n",
        "    res = requests.get('http://api.openweathermap.org/data/2.5/onecall/timemachine?lat=55.7522&lon=37.6156&dt={}&appid={}'.format(dt, appid))\n",
        "    data = res.json()\n",
        "    daylight_ts = data['current']['sunset'] - data['current']['sunrise']\n",
        "    return daylight_ts\n",
        "\n",
        "def ts_to_dt(ts):\n",
        "    m, s = divmod(ts, 60)\n",
        "    h, m = divmod(m, 60)\n",
        "    return '{}:{}:{}'.format(h, m, s)\n",
        "ts_list = [today]\n",
        "today_1 = today\n",
        "for i in range(4):\n",
        "    ts_list.append(today_1 - seconds_in_day)\n",
        "    today_1 -= seconds_in_day\n",
        "\n",
        "ts_daylights = []\n",
        "for i in range(5):\n",
        "    ts_daylights.append(daylight_hours(ts_list[i]))\n",
        "df = pd.DataFrame({'date': ts_list, 'daylights': ts_daylights})\n",
        "from datetime import datetime\n",
        "result_date = datetime.utcfromtimestamp(int(df.max()[0])).strftime('%Y-%m-%d')\n",
        "result_duration = ts_to_dt(df.max()[1])\n",
        "print(\"Максимальная продолжительность светового дня за последний 5 дней - {} была зафиксирована {}\".format(result_duration, result_date))\n",
        "\n",
        "\n"
      ],
      "execution_count": null,
      "outputs": [
        {
          "output_type": "stream",
          "text": [
            "Максимальная продолжительность светового дня за последний 5 дней - 14:48:5 была зафиксирована 2021-08-23\n"
          ],
          "name": "stdout"
        }
      ]
    },
    {
      "cell_type": "code",
      "metadata": {
        "id": "i1vydVrkDpQm"
      },
      "source": [
        ""
      ],
      "execution_count": null,
      "outputs": []
    }
  ]
}