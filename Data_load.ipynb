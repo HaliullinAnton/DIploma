{
  "nbformat": 4,
  "nbformat_minor": 0,
  "metadata": {
    "colab": {
      "name": "Data_load.ipynb",
      "provenance": [],
      "collapsed_sections": [],
      "authorship_tag": "ABX9TyNLSKxYjDlPkJHu5QqowqLd",
      "include_colab_link": true
    },
    "kernelspec": {
      "name": "python3",
      "display_name": "Python 3"
    },
    "language_info": {
      "name": "python"
    }
  },
  "cells": [
    {
      "cell_type": "markdown",
      "metadata": {
        "id": "view-in-github",
        "colab_type": "text"
      },
      "source": [
        "<a href=\"https://colab.research.google.com/github/HaliullinAnton/DIploma/blob/main/Data_load.ipynb\" target=\"_parent\"><img src=\"https://colab.research.google.com/assets/colab-badge.svg\" alt=\"Open In Colab\"/></a>"
      ]
    },
    {
      "cell_type": "code",
      "metadata": {
        "colab": {
          "base_uri": "https://localhost:8080/"
        },
        "id": "e0PrbI9PiWMY",
        "outputId": "69303546-ef45-4b49-a4f3-55ac85f5b813"
      },
      "source": [
        "import pandas as pd\n",
        "import numpy as np\n",
        "import sqlite3\n",
        "import csv\n",
        "from google.colab import drive\n",
        "drive.mount('/content/drive')"
      ],
      "execution_count": null,
      "outputs": [
        {
          "output_type": "stream",
          "text": [
            "Mounted at /content/drive\n"
          ],
          "name": "stdout"
        }
      ]
    },
    {
      "cell_type": "code",
      "metadata": {
        "id": "4n98eNlBiZac"
      },
      "source": [
        "def create_table(table_name, columns_name, columns_quant, file_loc, head_pass):\n",
        "    conn = sqlite3.connect(r'/content/drive/MyDrive/Diploma/Data/New_db.db')\n",
        "    cur = conn.cursor()\n",
        "    cur.execute('''DROP TABLE IF EXISTS %s''' % (table_name))\n",
        "    cur.execute('''CREATE TABLE %s (%s)'''%(table_name, columns_name) )\n",
        "    with open(r'%s' % (file_loc), 'r') as fin_1:\n",
        "        dr = csv.reader(fin_1)\n",
        "        if head_pass == True:\n",
        "            next(dr, None)  # пропускаем заголовок\n",
        "        else:\n",
        "            pass\n",
        "        dataset = [(i) for i in dr]\n",
        "    for count, i in enumerate(dataset):\n",
        "        dataset[count] = tuple(i)\n",
        "    dataset = tuple(dataset)\n",
        "\n",
        "    columns_count = \"\"\n",
        "    for i in range(columns_quant):\n",
        "        if i < (columns_quant - 1):\n",
        "            columns_count += '?, '\n",
        "        else: columns_count += '?'\n",
        "    cur.executemany(\"INSERT INTO %s VALUES (%s);\" % (table_name, columns_count), dataset)\n",
        "    conn.commit()\n",
        "    conn.close()\n",
        "    '''\n",
        "    Функция загружает csv файл и загружает данные из него в БД\n",
        "    Первый аргумент - название таблицы, второй - название столбцов в таблице,\n",
        "     третий - путь к csv файлу, четвертый - булево значение, где True - \n",
        "     пропустить заголовок, False - оставить заголовок\n",
        "    '''"
      ],
      "execution_count": null,
      "outputs": []
    },
    {
      "cell_type": "code",
      "metadata": {
        "id": "Pp8o3r_QjC2v"
      },
      "source": [
        "def func_cur(sql_exp):\n",
        "    conn = sqlite3.connect('/content/drive/MyDrive/Diploma/Data/New_db.db')\n",
        "    cur = conn.cursor()\n",
        "    cur.execute(''' %s;''' %(sql_exp))\n",
        "    result = cur.fetchall()\n",
        "    return pd.DataFrame(result)\n",
        "    '''\n",
        "    Функция создания курора. В аргумент функции передается полный SQL-запрос.\n",
        "    '''\n",
        " \n",
        " \n",
        "def select_all(table_name):\n",
        "    conn = sqlite3.connect('/content/drive/MyDrive/Diploma/Data/New_db.db')\n",
        "    cur = conn.cursor()\n",
        "    cur.execute(''' SELECT * FROM %s;''' %(table_name))\n",
        "    result = cur.fetchall()\n",
        "    return pd.DataFrame(result)\n",
        "    '''\n",
        "    Функция создания курсора, и вывода всех столбцов из заданной таблицы.\n",
        "    В аргумент передается только название таблицы\n",
        "    '''\n",
        "\n",
        "def show_db():\n",
        "    conn = sqlite3.connect('/content/drive/MyDrive/Diploma/Data/New_db.db')\n",
        "    cur = conn.cursor()\n",
        "    cur.execute(''' SELECT name FROM sqlite_master WHERE type = 'table';\n",
        "    ''')\n",
        "    result = cur.fetchall()\n",
        "    return result\n",
        "    '''\n",
        "    Функция выводит названия таблиц в базе данных\n",
        "    '''"
      ],
      "execution_count": null,
      "outputs": []
    },
    {
      "cell_type": "code",
      "metadata": {
        "id": "_EMJOe8-n5BU"
      },
      "source": [
        "#Преобразуем csv файл для корректного чтения\n",
        "train_data = pd.read_csv(r'/content/drive/MyDrive/Diploma/Data/Dict/train.csv', sep=';')\n",
        "pd.DataFrame(train_data).to_csv(r'/content/drive/MyDrive/Diploma/Data/Dict/train_sep.csv', index=False)\n"
      ],
      "execution_count": null,
      "outputs": []
    },
    {
      "cell_type": "code",
      "metadata": {
        "id": "Yi2Hv2OAMPWm"
      },
      "source": [
        "#Загружаем таблицу train\n",
        "create_table('train', 'train_id, car_id', 2, '/content/drive/MyDrive/Diploma/Data/Dict/train_sep.csv', True)"
      ],
      "execution_count": null,
      "outputs": []
    },
    {
      "cell_type": "code",
      "metadata": {
        "id": "b8OvTRCx3VdM"
      },
      "source": [
        "# Загружаем таблицу users\n",
        "create_table('users', 'user_id', 1, '/content/drive/MyDrive/Diploma/Data/Dict/users.csv', True)"
      ],
      "execution_count": null,
      "outputs": []
    },
    {
      "cell_type": "code",
      "metadata": {
        "id": "zasYNung3Z4y"
      },
      "source": [
        "# Загружаем таблицу stations\n",
        "import json\n",
        "with open('/content/drive/MyDrive/Diploma/Data/Dict/station.json','r') as f:\n",
        "    j = json.load(f)\n",
        "l = list(j.values())\n",
        "df = pd.DataFrame(data=l)\n",
        "df_t = df.transpose() # Транспонируем матрицу, т.к. таблица горизонтальная\n",
        "df_t = df_t.fillna('No_Data') # Заполняем пустые значения\n",
        "pd.DataFrame(df_t.to_csv(r'/content/drive/MyDrive/Diploma/Data/Dict/station.csv', index=False)) # Создаем csv файл\n",
        "df_t\n",
        "create_table('stations', 'line_id, station_name, line_name, district, district_1, acts, station_id', 7, '/content/drive/MyDrive/Diploma/Data/Dict/station.csv', True)"
      ],
      "execution_count": null,
      "outputs": []
    },
    {
      "cell_type": "code",
      "metadata": {
        "id": "Q9fDzn0_sRf5"
      },
      "source": [
        "# Загражаем таблицы hw_session_1 - hw_session_17\n",
        "for i in range(1, 18):\n",
        "  create_table('hw_session_%s'%(i), 'user_id, stst_id, stopst_id, start_ts, end_ts, start_dt, end_dt', 7, '/content/drive/MyDrive/Diploma/Data/Table/hw_session_%s.csv'%(i), True)\n"
      ],
      "execution_count": null,
      "outputs": []
    },
    {
      "cell_type": "code",
      "metadata": {
        "id": "Z6wicRVEuEZ8"
      },
      "source": [
        "# Объединяем таблицы hw_sessions\n",
        "\n",
        "hw_session = func_cur('''SELECT * FROM hw_session_1 UNION ALL SELECT * FROM \n",
        "hw_session_2 UNION ALL SELECT * FROM hw_session_3 UNION ALL SELECT * FROM\n",
        "hw_session_4 UNION ALL SELECT * FROM hw_session_5 UNION ALL SELECT * FROM \n",
        "hw_session_6 UNION ALL SELECT * FROM hw_session_7 UNION ALL SELECT * FROM \n",
        "hw_session_8 UNION ALL SELECT * FROM hw_session_9 UNION ALL SELECT * FROM\n",
        "hw_session_10 UNION ALL SELECT * FROM  hw_session_11 UNION ALL SELECT * FROM\n",
        "hw_session_12 UNION ALL SELECT * FROM hw_session_13 UNION ALL SELECT * FROM\n",
        "hw_session_14 UNION ALL SELECT * FROM hw_session_15 UNION ALL SELECT * FROM\n",
        "hw_session_16 UNION ALL SELECT * FROM hw_session_17''')"
      ],
      "execution_count": null,
      "outputs": []
    },
    {
      "cell_type": "code",
      "metadata": {
        "id": "Pn4P3l1AuJxr"
      },
      "source": [
        "# Создаем таблицу hw_session\n",
        "hw_session = list(hw_session.itertuples(index=False, name=None))\n",
        "hw_session = tuple(hw_session)\n",
        "\n",
        "conn = sqlite3.connect(r'/content/drive/MyDrive/Diploma/Data/New_db.db')\n",
        "cur = conn.cursor()\n",
        "cur.execute('DROP TABLE IF EXISTS hw_session')\n",
        "cur.execute('CREATE TABLE hw_session (user_id, stst_id, stopst_id, start_ts, end_ts, start_dt, end_dt)')\n",
        "\n",
        "cur.executemany(\"INSERT INTO hw_session VALUES (?, ?, ?, ?, ?, ?, ?);\", hw_session)\n",
        "conn.commit()\n",
        "conn.close()\n"
      ],
      "execution_count": null,
      "outputs": []
    },
    {
      "cell_type": "code",
      "metadata": {
        "id": "jjgEyghc0Jji"
      },
      "source": [
        "# Удаляем лишние таблицы\n",
        "for i in range(1,18):\n",
        "    conn = sqlite3.connect(r'/content/drive/MyDrive/Diploma/Data/New_db.db')\n",
        "    cur = conn.cursor()\n",
        "    cur.execute('DROP TABLE IF EXISTS hw_session_%s'%(i))\n",
        "    conn.commit\n",
        "    conn.close\n",
        "  "
      ],
      "execution_count": null,
      "outputs": []
    },
    {
      "cell_type": "code",
      "metadata": {
        "id": "5lWYEhTy1G38"
      },
      "source": [
        "# Загражаем таблицы train_trek_1 - train_trek_17\n",
        "for i in range(1, 18):\n",
        "  create_table('train_trek_%s'%(i), 'line_id, train_id, station_id, timestamp, dt', 5, '/content/drive/MyDrive/Diploma/Data/Table/train_trek%s.csv'%(i), True)"
      ],
      "execution_count": null,
      "outputs": []
    },
    {
      "cell_type": "code",
      "metadata": {
        "id": "Lom7VMTG1w6r"
      },
      "source": [
        "# Объединяем таблицы train_trek\n",
        "\n",
        "train_trek = func_cur('''SELECT * FROM train_trek_1 UNION ALL SELECT * FROM \n",
        "train_trek_2 UNION ALL SELECT * FROM train_trek_3 UNION ALL SELECT * FROM\n",
        "train_trek_4 UNION ALL SELECT * FROM train_trek_5 UNION ALL SELECT * FROM \n",
        "train_trek_6 UNION ALL SELECT * FROM train_trek_7 UNION ALL SELECT * FROM \n",
        "train_trek_8 UNION ALL SELECT * FROM train_trek_9 UNION ALL SELECT * FROM\n",
        "train_trek_10 UNION ALL SELECT * FROM  train_trek_11 UNION ALL SELECT * FROM\n",
        "train_trek_12 UNION ALL SELECT * FROM train_trek_13 UNION ALL SELECT * FROM\n",
        "train_trek_14 UNION ALL SELECT * FROM train_trek_15 UNION ALL SELECT * FROM\n",
        "train_trek_16 UNION ALL SELECT * FROM train_trek_17''')"
      ],
      "execution_count": null,
      "outputs": []
    },
    {
      "cell_type": "code",
      "metadata": {
        "id": "eVu3Y6OrI4KU"
      },
      "source": [
        "# Создаем таблицу hw_session\n",
        "train_trek = list(train_trek.itertuples(index=False, name=None))\n",
        "train_trek = tuple(train_trek)\n",
        "\n",
        "conn = sqlite3.connect(r'/content/drive/MyDrive/Diploma/Data/New_db.db')\n",
        "cur = conn.cursor()\n",
        "cur.execute('DROP TABLE IF EXISTS train_trek')\n",
        "cur.execute('CREATE TABLE train_trek (line_id, train_id, station_id, timestamp, dt)')\n",
        "\n",
        "cur.executemany(\"INSERT INTO train_trek VALUES (?, ?, ?, ?, ?);\", train_trek)\n",
        "conn.commit()\n",
        "conn.close()"
      ],
      "execution_count": null,
      "outputs": []
    },
    {
      "cell_type": "code",
      "metadata": {
        "id": "GQX4c1rpJSD8"
      },
      "source": [
        "# Удаляем лишние таблицы\n",
        "for i in range(1,18):\n",
        "    conn = sqlite3.connect(r'/content/drive/MyDrive/Diploma/Data/New_db.db')\n",
        "    cur = conn.cursor()\n",
        "    cur.execute('DROP TABLE IF EXISTS train_trek_%s'%(i))\n",
        "    conn.commit\n",
        "    conn.close"
      ],
      "execution_count": null,
      "outputs": []
    },
    {
      "cell_type": "code",
      "metadata": {
        "id": "2_ZSp26NJscb"
      },
      "source": [
        "#  Создаем таблицу points \n",
        "create_table('points', 'id, user_id, start_ts, start_dt', 4, '/content/drive/MyDrive/Diploma/Data/Table/points.csv', True)"
      ],
      "execution_count": null,
      "outputs": []
    },
    {
      "cell_type": "code",
      "metadata": {
        "id": "0dEegdnHJvqy"
      },
      "source": [
        "# Создаем таблицу town_points\n",
        "\n",
        "town_points = pd.read_excel(r'/content/drive/MyDrive/Diploma/Data/Dict/town_points.xlsx') # Загружаем файл xlsx\n",
        "town_points = town_points.fillna('No_data')  # Заполняем пустые значения\n",
        "pd.DataFrame(town_points).to_csv(r'/content/drive/MyDrive/Diploma/Data/Dict/town_points.csv', index=False) # Создаем файл csv\n",
        "\n",
        "town_points\n",
        "\n",
        "create_table('town_points', 'location_id, type_location, name_location, adress, metro', 5, '/content/drive/MyDrive/Diploma/Data/Dict/town_points.csv', True)\n"
      ],
      "execution_count": null,
      "outputs": []
    },
    {
      "cell_type": "code",
      "metadata": {
        "colab": {
          "base_uri": "https://localhost:8080/"
        },
        "id": "aY1COPKPUkEv",
        "outputId": "c7345986-671c-41ad-a5c6-bb58bbabd268"
      },
      "source": [
        "show_db()"
      ],
      "execution_count": null,
      "outputs": [
        {
          "output_type": "execute_result",
          "data": {
            "text/plain": [
              "[('infected',),\n",
              " ('train',),\n",
              " ('users',),\n",
              " ('stations',),\n",
              " ('hw_session',),\n",
              " ('train_trek',),\n",
              " ('points',),\n",
              " ('town_points',)]"
            ]
          },
          "metadata": {
            "tags": []
          },
          "execution_count": 108
        }
      ]
    }
  ]
}